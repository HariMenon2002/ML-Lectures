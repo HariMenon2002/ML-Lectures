{
 "cells": [
  {
   "cell_type": "code",
   "execution_count": 1,
   "id": "101dc31b",
   "metadata": {},
   "outputs": [],
   "source": [
    "#EDA of the cleaned dataset\n",
    "import pandas as pd\n",
    "import numpy as np\n",
    "import matplotlib.pyplot as plt\n",
    "import seaborn as sns\n",
    "import warnings\n",
    "warnings.filterwarnings(\"ignore\")\n",
    "%matplotlib inline"
   ]
  },
  {
   "cell_type": "code",
   "execution_count": 3,
   "id": "142ad102",
   "metadata": {},
   "outputs": [
    {
     "data": {
      "text/html": [
       "<div>\n",
       "<style scoped>\n",
       "    .dataframe tbody tr th:only-of-type {\n",
       "        vertical-align: middle;\n",
       "    }\n",
       "\n",
       "    .dataframe tbody tr th {\n",
       "        vertical-align: top;\n",
       "    }\n",
       "\n",
       "    .dataframe thead th {\n",
       "        text-align: right;\n",
       "    }\n",
       "</style>\n",
       "<table border=\"1\" class=\"dataframe\">\n",
       "  <thead>\n",
       "    <tr style=\"text-align: right;\">\n",
       "      <th></th>\n",
       "      <th>Unnamed: 0</th>\n",
       "      <th>App</th>\n",
       "      <th>Category</th>\n",
       "      <th>Rating</th>\n",
       "      <th>Reviews</th>\n",
       "      <th>Size</th>\n",
       "      <th>Installs</th>\n",
       "      <th>Type</th>\n",
       "      <th>Price</th>\n",
       "      <th>Content Rating</th>\n",
       "      <th>Genres</th>\n",
       "      <th>Current Ver</th>\n",
       "      <th>Android Ver</th>\n",
       "      <th>Day</th>\n",
       "      <th>Month</th>\n",
       "      <th>Year</th>\n",
       "    </tr>\n",
       "  </thead>\n",
       "  <tbody>\n",
       "    <tr>\n",
       "      <th>0</th>\n",
       "      <td>0</td>\n",
       "      <td>Photo Editor &amp; Candy Camera &amp; Grid &amp; ScrapBook</td>\n",
       "      <td>ART_AND_DESIGN</td>\n",
       "      <td>4.1</td>\n",
       "      <td>159</td>\n",
       "      <td>19000.0</td>\n",
       "      <td>10000</td>\n",
       "      <td>Free</td>\n",
       "      <td>0.0</td>\n",
       "      <td>Everyone</td>\n",
       "      <td>Art &amp; Design</td>\n",
       "      <td>1.0.0</td>\n",
       "      <td>4.0.3 and up</td>\n",
       "      <td>7</td>\n",
       "      <td>1</td>\n",
       "      <td>2018</td>\n",
       "    </tr>\n",
       "    <tr>\n",
       "      <th>1</th>\n",
       "      <td>1</td>\n",
       "      <td>Coloring book moana</td>\n",
       "      <td>ART_AND_DESIGN</td>\n",
       "      <td>3.9</td>\n",
       "      <td>967</td>\n",
       "      <td>14000.0</td>\n",
       "      <td>500000</td>\n",
       "      <td>Free</td>\n",
       "      <td>0.0</td>\n",
       "      <td>Everyone</td>\n",
       "      <td>Art &amp; Design;Pretend Play</td>\n",
       "      <td>2.0.0</td>\n",
       "      <td>4.0.3 and up</td>\n",
       "      <td>15</td>\n",
       "      <td>1</td>\n",
       "      <td>2018</td>\n",
       "    </tr>\n",
       "  </tbody>\n",
       "</table>\n",
       "</div>"
      ],
      "text/plain": [
       "   Unnamed: 0                                             App        Category  \\\n",
       "0           0  Photo Editor & Candy Camera & Grid & ScrapBook  ART_AND_DESIGN   \n",
       "1           1                             Coloring book moana  ART_AND_DESIGN   \n",
       "\n",
       "   Rating  Reviews     Size  Installs  Type  Price Content Rating  \\\n",
       "0     4.1      159  19000.0     10000  Free    0.0       Everyone   \n",
       "1     3.9      967  14000.0    500000  Free    0.0       Everyone   \n",
       "\n",
       "                      Genres Current Ver   Android Ver  Day  Month  Year  \n",
       "0               Art & Design       1.0.0  4.0.3 and up    7      1  2018  \n",
       "1  Art & Design;Pretend Play       2.0.0  4.0.3 and up   15      1  2018  "
      ]
     },
     "execution_count": 3,
     "metadata": {},
     "output_type": "execute_result"
    }
   ],
   "source": [
    "df=pd.read_csv('D:/Datasets/google_cleanedcsv_part1.csv')\n",
    "df_copy=df.copy()\n",
    "df_copy.head(2)"
   ]
  },
  {
   "cell_type": "code",
   "execution_count": 7,
   "id": "04287cba",
   "metadata": {},
   "outputs": [
    {
     "data": {
      "text/plain": [
       "(1181, 16)"
      ]
     },
     "execution_count": 7,
     "metadata": {},
     "output_type": "execute_result"
    }
   ],
   "source": [
    "#App feature\n",
    "df_copy[df_copy.duplicated('App')].shape"
   ]
  },
  {
   "cell_type": "code",
   "execution_count": 8,
   "id": "78d3585e",
   "metadata": {},
   "outputs": [],
   "source": [
    "df_copy=df_copy.drop_duplicates(subset=['App'],keep='first')"
   ]
  },
  {
   "cell_type": "code",
   "execution_count": 9,
   "id": "81aa36f0",
   "metadata": {},
   "outputs": [
    {
     "data": {
      "text/plain": [
       "(0, 16)"
      ]
     },
     "execution_count": 9,
     "metadata": {},
     "output_type": "execute_result"
    }
   ],
   "source": [
    "df_copy[df_copy.duplicated('App')].shape"
   ]
  },
  {
   "cell_type": "code",
   "execution_count": 11,
   "id": "06a21b2c",
   "metadata": {},
   "outputs": [
    {
     "name": "stdout",
     "output_type": "stream",
     "text": [
      "We have 9 numerical features : ['Unnamed: 0', 'Rating', 'Reviews', 'Size', 'Installs', 'Price', 'Day', 'Month', 'Year']\n",
      "\n",
      "We have 7 categorical features : ['App', 'Category', 'Type', 'Content Rating', 'Genres', 'Current Ver', 'Android Ver']\n"
     ]
    }
   ],
   "source": [
    "#Exploring data\n",
    "numeric_features=[feature for feature in df_copy.columns if df_copy[feature].dtype != 'O']\n",
    "categorical_features=[feature for feature in df_copy.columns if df_copy[feature].dtype == 'O']\n",
    "\n",
    "print('We have {} numerical features : {}'.format(len(numeric_features),numeric_features))\n",
    "print('\\nWe have {} categorical features : {}'.format(len(categorical_features),categorical_features))"
   ]
  }
 ],
 "metadata": {
  "kernelspec": {
   "display_name": "ml_env",
   "language": "python",
   "name": "python3"
  },
  "language_info": {
   "codemirror_mode": {
    "name": "ipython",
    "version": 3
   },
   "file_extension": ".py",
   "mimetype": "text/x-python",
   "name": "python",
   "nbconvert_exporter": "python",
   "pygments_lexer": "ipython3",
   "version": "3.10.18"
  }
 },
 "nbformat": 4,
 "nbformat_minor": 5
}
