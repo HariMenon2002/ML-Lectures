{
 "cells": [
  {
   "cell_type": "code",
   "execution_count": 2,
   "id": "06cd8a01",
   "metadata": {},
   "outputs": [
    {
     "data": {
      "text/plain": [
       "(np.float64(32.0), np.float64(54.5), np.float64(74.5))"
      ]
     },
     "execution_count": 2,
     "metadata": {},
     "output_type": "execute_result"
    }
   ],
   "source": [
    "import numpy as np\n",
    "lst=[45,32,56,75,89,54,32,89,90,97,87,98,67,74]\n",
    "\n",
    "minimum,Q1,median,Q3,maximum=np.quantile(lst,[0,0.25,0.5,0.75,1.0])\n",
    "\n",
    "minimum,Q1,median"
   ]
  },
  {
   "cell_type": "code",
   "execution_count": 3,
   "id": "14c37c0f",
   "metadata": {},
   "outputs": [
    {
     "name": "stdout",
     "output_type": "stream",
     "text": [
      "34.5\n"
     ]
    }
   ],
   "source": [
    "IQR=Q3-Q1\n",
    "print(IQR)"
   ]
  },
  {
   "cell_type": "code",
   "execution_count": 5,
   "id": "affa1108",
   "metadata": {},
   "outputs": [],
   "source": [
    "lower_fence=Q1-1.5*IQR\n",
    "higher_fence=Q3+1.5*IQR"
   ]
  },
  {
   "cell_type": "code",
   "execution_count": 6,
   "id": "506669de",
   "metadata": {},
   "outputs": [
    {
     "data": {
      "text/plain": [
       "np.float64(2.75)"
      ]
     },
     "execution_count": 6,
     "metadata": {},
     "output_type": "execute_result"
    }
   ],
   "source": [
    "lower_fence"
   ]
  },
  {
   "cell_type": "code",
   "execution_count": 7,
   "id": "3f07604f",
   "metadata": {},
   "outputs": [
    {
     "data": {
      "text/plain": [
       "<Axes: >"
      ]
     },
     "execution_count": 7,
     "metadata": {},
     "output_type": "execute_result"
    },
    {
     "data": {
      "image/png": "[encoded data removed]",
      "text/plain": [
       "<Figure size 640x480 with 1 Axes>"
      ]
     },
     "metadata": {},
     "output_type": "display_data"
    }
   ],
   "source": [
    "import seaborn as sns\n",
    "sns.boxplot(lst)"
   ]
  }
 ],
 "metadata": {
  "kernelspec": {
   "display_name": "ml_env",
   "language": "python",
   "name": "python3"
  },
  "language_info": {
   "codemirror_mode": {
    "name": "ipython",
    "version": 3
   },
   "file_extension": ".py",
   "mimetype": "text/x-python",
   "name": "python",
   "nbconvert_exporter": "python",
   "pygments_lexer": "ipython3",
   "version": "3.10.18"
  }
 },
 "nbformat": 4,
 "nbformat_minor": 5
}
